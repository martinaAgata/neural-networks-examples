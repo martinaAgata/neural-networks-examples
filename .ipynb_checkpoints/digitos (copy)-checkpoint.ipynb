{
 "cells": [
  {
   "cell_type": "code",
   "execution_count": 1,
   "metadata": {},
   "outputs": [
    {
     "name": "stdout",
     "output_type": "stream",
     "text": [
      "2.2.0\n"
     ]
    }
   ],
   "source": [
    "# Importar Keras, TensorFlow y otras librerías útiles\n",
    "\n",
    "import tensorflow as tf\n",
    "from tensorflow import keras\n",
    "\n",
    "import numpy as np\n",
    "import matplotlib.pyplot as plt\n",
    "\n",
    "print(tf.__version__)"
   ]
  },
  {
   "cell_type": "code",
   "execution_count": 2,
   "metadata": {},
   "outputs": [
    {
     "name": "stdout",
     "output_type": "stream",
     "text": [
      "[5 0 4 ... 5 6 8]\n",
      "[7 2 1 ... 4 5 6]\n"
     ]
    }
   ],
   "source": [
    "# Importar el dataset\n",
    "\n",
    "mnist = keras.datasets.mnist\n",
    "\n",
    "\"\"\"\n",
    "MNIST es un muy básico dataset de dígitos escritos a mano con un training set de 60.000 ejemplos y un\n",
    "test set de 10.000 ejemplos. Los dígitos fueron normalizados y centrados en una imagen de tamaño fijo.\n",
    "\n",
    "Al cargar el dataset se obtienen 4 arreglos NumPy:\n",
    "\n",
    "x_train, x_test: uint8 arreglo de imágenes en escala de grises de la forma: (num_samples, 28, 28).\n",
    "y_train, y_test: uint8 arreglo de labels de los dígitos (enteros de 0 a 9) de la forma: (num_samples,).\n",
    "\n",
    "\"\"\"\n",
    "\n",
    "# Carga del dataset\n",
    "\n",
    "(train_images, train_labels), (test_images, test_labels) = mnist.load_data()\n",
    "\n",
    "class_names = ['0', '1', '2', '3', '4', '5', '6', '7', '8', '9']\n",
    "\n",
    "\n",
    "print(train_labels)\n",
    "print(test_labels)"
   ]
  },
  {
   "cell_type": "code",
   "execution_count": 4,
   "metadata": {},
   "outputs": [
    {
     "data": {
      "image/png": "[encoded data removed]",
      "text/plain": [
       "<Figure size 432x288 with 4 Axes>"
      ]
     },
     "metadata": {
      "needs_background": "light"
     },
     "output_type": "display_data"
    }
   ],
   "source": [
    "plt.subplot(221)\n",
    "plt.imshow(train_images[8], cmap=plt.get_cmap('gray'))\n",
    "plt.subplot(222)\n",
    "plt.imshow(train_images[13], cmap=plt.get_cmap('gray'))\n",
    "plt.subplot(223)\n",
    "plt.imshow(train_images[22], cmap=plt.get_cmap('gray'))\n",
    "plt.subplot(224)\n",
    "plt.imshow(train_images[5], cmap=plt.get_cmap('gray'))\n",
    "# muestra el plot\n",
    "plt.show()"
   ]
  },
  {
   "cell_type": "code",
   "execution_count": 21,
   "metadata": {},
   "outputs": [],
   "source": [
    "### Construcción del modelo ###\n",
    "\n",
    "\"\"\"\n",
    "En este modelo utilizamos Adam como método de optimización. Adam se basa en el descenso de gradientes\n",
    "estocástico que es un método iterativo para la optimización de una función diferenciable y se trata de\n",
    "una aproximación estocástica porque las muestras están seleccionadas al azar en lugar de como un grupo\n",
    "único o en el orden en que aparecen en el conjunto de entrenamiento.\n",
    "\"\"\"\n",
    "\n",
    "\"\"\"\n",
    "Una capa Dense denota que cada neurona recibe información de todas las neuronas de la capa anterior,\n",
    "o sea, el output de todas las neuronas de una capa es el input de las neuronas de la capa siguiente,\n",
    "por lo tanto, está densamente conectada o es \"altamente conexa\".\n",
    "\"\"\"\n",
    "\n",
    "model = keras.Sequential([\n",
    "    keras.layers.Flatten(input_shape=(28, 28)),\n",
    "    keras.layers.Dense(128, activation='relu'),\n",
    "    keras.layers.Dense(10)\n",
    "])\n",
    "\n",
    "\n",
    "# Compilación del modelo\n",
    "\n",
    "model.compile(optimizer='adam',\n",
    "              loss=tf.keras.losses.SparseCategoricalCrossentropy(from_logits=True),\n",
    "              metrics=['accuracy'])"
   ]
  },
  {
   "cell_type": "code",
   "execution_count": 22,
   "metadata": {},
   "outputs": [
    {
     "name": "stdout",
     "output_type": "stream",
     "text": [
      "Epoch 1/10\n",
      "1875/1875 [==============================] - 5s 3ms/step - loss: 2.6254 - accuracy: 0.8598\n",
      "Epoch 2/10\n",
      "1875/1875 [==============================] - 5s 3ms/step - loss: 0.3632 - accuracy: 0.9120\n",
      "Epoch 3/10\n",
      "1875/1875 [==============================] - 5s 3ms/step - loss: 0.2890 - accuracy: 0.9255\n",
      "Epoch 4/10\n",
      "1875/1875 [==============================] - 5s 3ms/step - loss: 0.2560 - accuracy: 0.9345\n",
      "Epoch 5/10\n",
      "1875/1875 [==============================] - 5s 3ms/step - loss: 0.2256 - accuracy: 0.9414\n",
      "Epoch 6/10\n",
      "1875/1875 [==============================] - 5s 3ms/step - loss: 0.2215 - accuracy: 0.9453\n",
      "Epoch 7/10\n",
      "1875/1875 [==============================] - 5s 3ms/step - loss: 0.2103 - accuracy: 0.9479\n",
      "Epoch 8/10\n",
      "1875/1875 [==============================] - 5s 3ms/step - loss: 0.1921 - accuracy: 0.9521\n",
      "Epoch 9/10\n",
      "1875/1875 [==============================] - 5s 3ms/step - loss: 0.1893 - accuracy: 0.9531\n",
      "Epoch 10/10\n",
      "1875/1875 [==============================] - 5s 3ms/step - loss: 0.1834 - accuracy: 0.9542\n",
      "<class 'tensorflow.python.keras.callbacks.History'>\n"
     ]
    }
   ],
   "source": [
    "### Entrenamiento del modelo ###\n",
    "\n",
    "\"\"\"\n",
    "En esta instancia se alimenta el modelo utilizando la información guardada en los 4 distintos\n",
    "arrays numpy al momento de cargar el dataset. \n",
    "Es en este momento en que se debe realizar chequeos para evaluar exactitud, y si ésta no es la\n",
    "correcta o la buscada, deben usarse estrategias para prevenirlo.\n",
    "\n",
    "En este caso se seleccionan 10 epochs o épocas. Una época es cada una de las pasadas sobre todo\n",
    "el conjunto de datos, es decir, un ciclo entero de entrenamiento pasando por todos los datos.\n",
    "\"\"\"\n",
    "\n",
    "results = model.fit(train_images, train_labels, epochs=10)\n",
    "print(type(results))\n"
   ]
  },
  {
   "cell_type": "code",
   "execution_count": 23,
   "metadata": {},
   "outputs": [
    {
     "name": "stdout",
     "output_type": "stream",
     "text": [
      "Precisión del modelo: 0.9325933337211609\n"
     ]
    }
   ],
   "source": [
    "print(\"Precisión del modelo:\" , np.mean(results.history[\"accuracy\"]))"
   ]
  },
  {
   "cell_type": "code",
   "execution_count": 26,
   "metadata": {},
   "outputs": [],
   "source": [
    "\"\"\"\n",
    "Función que únicamente define el modo en que se graficarán los datos obtenidos.\n",
    "\"\"\"\n",
    "\n",
    "def plot_image(i, predictions_array, true_label, img):\n",
    "  predictions_array, true_label, img = predictions_array, true_label[i], img[i]\n",
    "  plt.grid(False)\n",
    "  plt.xticks([])\n",
    "  plt.yticks([])\n",
    "\n",
    "  plt.imshow(img, cmap=plt.cm.binary)\n",
    "\n",
    "  predicted_label = np.argmax(predictions_array)\n",
    "  if predicted_label == true_label:\n",
    "    color = 'blue'\n",
    "  else:\n",
    "    color = 'red'\n",
    "\n",
    "  plt.xlabel(\"{} {:2.0f}% ({})\".format(class_names[predicted_label],\n",
    "                                100*np.max(predictions_array),\n",
    "                                class_names[true_label]),\n",
    "                                color=color)\n",
    "\n",
    "def plot_value_array(i, predictions_array, true_label):\n",
    "  predictions_array, true_label = predictions_array, true_label[i]\n",
    "  plt.grid(False)\n",
    "  plt.xticks(range(10))\n",
    "  plt.yticks([])\n",
    "  thisplot = plt.bar(range(10), predictions_array, color=\"#777777\")\n",
    "  plt.ylim([0, 1])\n",
    "  predicted_label = np.argmax(predictions_array)\n",
    "\n",
    "  thisplot[predicted_label].set_color('red')\n",
    "  thisplot[true_label].set_color('blue')"
   ]
  },
  {
   "cell_type": "code",
   "execution_count": 24,
   "metadata": {},
   "outputs": [
    {
     "name": "stdout",
     "output_type": "stream",
     "text": [
      "[3.5138064e-20 5.5471756e-12 2.1753927e-17 1.8577238e-12 1.9281221e-17\n",
      " 4.8400861e-27 0.0000000e+00 1.0000000e+00 1.3353877e-17 1.8366550e-12]\n",
      "7\n",
      "9\n"
     ]
    }
   ],
   "source": [
    "### Ejemplo 1 de predicción con modelo entrenado ###\n",
    "\n",
    "\n",
    "probability_model = tf.keras.Sequential([model, tf.keras.layers.Softmax()])\n",
    "predictions = probability_model.predict(test_images)\n",
    "\n",
    "# Obtener array de 10 números que representan la posibilidad de matcheo para cada caracter.\n",
    "\n",
    "print(predictions[0])\n",
    "\n",
    "# Obtener el caracter con mayores posibilidades de matchear\n",
    "\n",
    "print(np.argmax(predictions[0]))\n",
    "\n",
    "# Examinar el valor asociado a caracter\n",
    "\n",
    "print(test_labels[7])"
   ]
  },
  {
   "cell_type": "code",
   "execution_count": 29,
   "metadata": {},
   "outputs": [
    {
     "name": "stdout",
     "output_type": "stream",
     "text": [
      "(28, 28)\n",
      "(1, 28, 28)\n",
      "[[0.0000000e+00 1.0000000e+00 6.6923267e-10 1.5839879e-15 2.7379501e-08\n",
      "  8.0135002e-14 1.4130431e-14 2.1617613e-08 1.9982579e-08 6.9180372e-14]]\n"
     ]
    },
    {
     "data": {
      "text/plain": [
       "1"
      ]
     },
     "execution_count": 29,
     "metadata": {},
     "output_type": "execute_result"
    },
    {
     "data": {
      "image/png": "[encoded data removed]",
      "text/plain": [
       "<Figure size 432x288 with 1 Axes>"
      ]
     },
     "metadata": {
      "needs_background": "light"
     },
     "output_type": "display_data"
    }
   ],
   "source": [
    "### Ejemplo 2 de predicción con modelo entrenado ###\n",
    "\n",
    "\n",
    "# Tomar una imagen del dataset\n",
    "\n",
    "img = test_images[5]\n",
    "print(img.shape)\n",
    "\n",
    "# Añadir la imagen a un conjunto en el que es el único elemento\n",
    "\n",
    "img = (np.expand_dims(img,0))\n",
    "print(img.shape)\n",
    "\n",
    "# Predecir la label correcta para la imagen\n",
    "\n",
    "predictions_single = probability_model.predict(img)\n",
    "print(predictions_single)\n",
    "\n",
    "plot_value_array(1, predictions_single[0], test_labels)\n",
    "_ = plt.xticks(range(10), class_names, rotation=45)\n",
    "\n",
    "\n",
    "# Recolectar predicciones para la única imagen en el conjunto\n",
    "\n",
    "np.argmax(predictions_single[0])"
   ]
  },
  {
   "cell_type": "code",
   "execution_count": null,
   "metadata": {},
   "outputs": [],
   "source": []
  }
 ],
 "metadata": {
  "kernelspec": {
   "display_name": "Python 3",
   "language": "python",
   "name": "python3"
  },
  "language_info": {
   "codemirror_mode": {
    "name": "ipython",
    "version": 3
   },
   "file_extension": ".py",
   "mimetype": "text/x-python",
   "name": "python",
   "nbconvert_exporter": "python",
   "pygments_lexer": "ipython3",
   "version": "3.8.2"
  }
 },
 "nbformat": 4,
 "nbformat_minor": 4
}
