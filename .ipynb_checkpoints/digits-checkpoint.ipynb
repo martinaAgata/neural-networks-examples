{
 "cells": [
  {
   "cell_type": "code",
   "execution_count": 1,
   "metadata": {},
   "outputs": [
    {
     "name": "stdout",
     "output_type": "stream",
     "text": [
      "2.2.0\n"
     ]
    }
   ],
   "source": [
    "# Importar Keras, TensorFlow y otras librerías útiles\n",
    "\n",
    "import tensorflow as tf\n",
    "from tensorflow import keras\n",
    "\n",
    "import numpy as np\n",
    "import matplotlib.pyplot as plt\n",
    "\n",
    "print(tf.__version__)"
   ]
  },
  {
   "cell_type": "code",
   "execution_count": 2,
   "metadata": {},
   "outputs": [
    {
     "name": "stdout",
     "output_type": "stream",
     "text": [
      "[5 0 4 ... 5 6 8]\n",
      "[7 2 1 ... 4 5 6]\n"
     ]
    }
   ],
   "source": [
    "# Importar el dataset\n",
    "\n",
    "mnist = keras.datasets.mnist\n",
    "\n",
    "\"\"\"\n",
    "MNIST es un muy básico dataset de dígitos escritos a mano con un training set de 60.000 ejemplos y un\n",
    "test set de 10.000 ejemplos. Los dígitos fueron normalizados y centrados en una imagen de tamaño fijo.\n",
    "\n",
    "Al cargar el dataset se obtienen 4 arreglos NumPy:\n",
    "\n",
    "x_train, x_test: uint8 arreglo de imágenes en escala de grises de la forma: (num_samples, 28, 28).\n",
    "y_train, y_test: uint8 arreglo de labels de los dígitos (enteros de 0 a 9) de la forma: (num_samples,).\n",
    "\n",
    "\"\"\"\n",
    "\n",
    "# Carga del dataset\n",
    "\n",
    "(train_images, train_labels), (test_images, test_labels) = mnist.load_data()\n",
    "\n",
    "class_names = ['0', '1', '2', '3', '4', '5', '6', '7', '8', '9']\n",
    "\n",
    "\n",
    "print(train_labels)\n",
    "print(test_labels)"
   ]
  },
  {
   "cell_type": "code",
   "execution_count": 3,
   "metadata": {},
   "outputs": [
    {
     "data": {
      "image/png": "[encoded data removed]",
      "text/plain": [
       "<Figure size 432x288 with 4 Axes>"
      ]
     },
     "metadata": {
      "needs_background": "light"
     },
     "output_type": "display_data"
    }
   ],
   "source": [
    "### Algunas imágenes de testeo del dataset ###\n",
    "\n",
    "plt.subplot(221)\n",
    "plt.imshow(test_images[0], cmap=plt.get_cmap('gray'))\n",
    "plt.subplot(222)\n",
    "plt.imshow(test_images[1], cmap=plt.get_cmap('gray'))\n",
    "plt.subplot(223)\n",
    "plt.imshow(test_images[2], cmap=plt.get_cmap('gray'))\n",
    "plt.subplot(224)\n",
    "plt.imshow(test_images[3], cmap=plt.get_cmap('gray'))\n",
    "\n",
    "plt.show()"
   ]
  },
  {
   "cell_type": "code",
   "execution_count": 5,
   "metadata": {},
   "outputs": [],
   "source": [
    "### Construcción del modelo ###\n",
    "\n",
    "\"\"\"\n",
    "En este modelo utilizamos Adam como método de optimización. Adam se basa en el descenso de gradientes\n",
    "estocástico que es un método iterativo para la optimización de una función diferenciable y se trata de\n",
    "una aproximación estocástica porque las muestras están seleccionadas al azar en lugar de como un grupo\n",
    "único o en el orden en que aparecen en el conjunto de entrenamiento.\n",
    "\"\"\"\n",
    "\n",
    "\"\"\"\n",
    "Una capa Dense denota que cada neurona recibe información de todas las neuronas de la capa anterior,\n",
    "o sea, el output de todas las neuronas de una capa es el input de las neuronas de la capa siguiente,\n",
    "por lo tanto, está densamente conectada o es \"altamente conexa\".\n",
    "\"\"\"\n",
    "\n",
    "model = keras.Sequential([\n",
    "    keras.layers.Flatten(input_shape=(28, 28)),\n",
    "    keras.layers.Dense(128, activation='relu'),\n",
    "    keras.layers.Dense(10)\n",
    "])\n",
    "\n",
    "\n",
    "# Compilación del modelo\n",
    "\n",
    "model.compile(optimizer='adam',\n",
    "              loss=tf.keras.losses.SparseCategoricalCrossentropy(from_logits=True),\n",
    "              metrics=['accuracy'])"
   ]
  },
  {
   "cell_type": "code",
   "execution_count": 6,
   "metadata": {},
   "outputs": [
    {
     "name": "stdout",
     "output_type": "stream",
     "text": [
      "Epoch 1/10\n",
      "1875/1875 [==============================] - 5s 3ms/step - loss: 2.6296 - accuracy: 0.8629\n",
      "Epoch 2/10\n",
      "1875/1875 [==============================] - 6s 3ms/step - loss: 0.3935 - accuracy: 0.9081\n",
      "Epoch 3/10\n",
      "1875/1875 [==============================] - 5s 3ms/step - loss: 0.2951 - accuracy: 0.9277\n",
      "Epoch 4/10\n",
      "1875/1875 [==============================] - 5s 3ms/step - loss: 0.2500 - accuracy: 0.9371\n",
      "Epoch 5/10\n",
      "1875/1875 [==============================] - 5s 3ms/step - loss: 0.2326 - accuracy: 0.9430\n",
      "Epoch 6/10\n",
      "1875/1875 [==============================] - 5s 3ms/step - loss: 0.2153 - accuracy: 0.9463\n",
      "Epoch 7/10\n",
      "1875/1875 [==============================] - 5s 3ms/step - loss: 0.2013 - accuracy: 0.9519\n",
      "Epoch 8/10\n",
      "1875/1875 [==============================] - 5s 3ms/step - loss: 0.1907 - accuracy: 0.9532\n",
      "Epoch 9/10\n",
      "1875/1875 [==============================] - 6s 3ms/step - loss: 0.1832 - accuracy: 0.9557\n",
      "Epoch 10/10\n",
      "1875/1875 [==============================] - 6s 3ms/step - loss: 0.1796 - accuracy: 0.9567\n"
     ]
    }
   ],
   "source": [
    "### Entrenamiento del modelo ###\n",
    "\n",
    "\"\"\"\n",
    "En esta instancia se alimenta el modelo utilizando la información guardada en los 4 distintos\n",
    "arrays numpy al momento de cargar el dataset. \n",
    "Es en este momento en que se debe realizar chequeos para evaluar exactitud, y si ésta no es la\n",
    "correcta o la buscada, deben usarse estrategias para prevenirlo.\n",
    "\n",
    "En este caso se seleccionan 10 epochs o épocas. Una época es cada una de las pasadas sobre todo\n",
    "el conjunto de datos, es decir, un ciclo entero de entrenamiento pasando por todos los datos.\n",
    "\"\"\"\n",
    "\n",
    "results = model.fit(train_images, train_labels, epochs=10)\n"
   ]
  },
  {
   "cell_type": "code",
   "execution_count": 8,
   "metadata": {},
   "outputs": [
    {
     "name": "stdout",
     "output_type": "stream",
     "text": [
      "1875/1875 [==============================] - 4s 2ms/step - loss: 0.1449 - accuracy: 0.9641\n"
     ]
    }
   ],
   "source": [
    "### Evaluación del modelo ###\n",
    "\n",
    "loss, accuracy = model.evaluate(train_images, train_labels)"
   ]
  },
  {
   "cell_type": "code",
   "execution_count": 12,
   "metadata": {},
   "outputs": [],
   "source": [
    "\"\"\"\n",
    "Función que únicamente define el modo en que se graficarán los datos obtenidos.\n",
    "\"\"\"\n",
    "\n",
    "def plot_image(i, predictions_array, true_label, img):\n",
    "  predictions_array, true_label, img = predictions_array, true_label[i], img[i]\n",
    "  plt.grid(False)\n",
    "  plt.xticks([])\n",
    "  plt.yticks([])\n",
    "\n",
    "  plt.imshow(img, cmap=plt.cm.binary)\n",
    "\n",
    "  predicted_label = np.argmax(predictions_array)\n",
    "  if predicted_label == true_label:\n",
    "    color = 'blue'\n",
    "  else:\n",
    "    color = 'red'\n",
    "\n",
    "  plt.xlabel(\"{} {:2.0f}% ({})\".format(class_names[predicted_label],\n",
    "                                100*np.max(predictions_array),\n",
    "                                class_names[true_label]),\n",
    "                                color=color)\n",
    "\n",
    "def plot_value_array(i, predictions_array, true_label):\n",
    "  predictions_array, true_label = predictions_array, true_label[i]\n",
    "  plt.grid(False)\n",
    "  plt.xticks(range(10))\n",
    "  plt.yticks([])\n",
    "  thisplot = plt.bar(range(10), predictions_array, color=\"#777777\")\n",
    "  plt.ylim([0, 1])\n",
    "  predicted_label = np.argmax(predictions_array)\n",
    "\n",
    "  thisplot[predicted_label].set_color('red')\n",
    "  thisplot[true_label].set_color('blue')"
   ]
  },
  {
   "cell_type": "code",
   "execution_count": 13,
   "metadata": {},
   "outputs": [
    {
     "name": "stdout",
     "output_type": "stream",
     "text": [
      "Predicciones para cada dígito:\n",
      "[1.9182469e-25 3.9008971e-14 2.8820743e-14 1.4864633e-09 8.0377275e-19\n",
      " 3.8210356e-25 0.0000000e+00 1.0000000e+00 1.3496773e-23 6.0903309e-21]\n",
      "Índice dentro del array del caracter con mayores probabilidades de matchear: 7\n",
      "Dígito predecido: 9\n"
     ]
    }
   ],
   "source": [
    "### Ejemplo 1 de predicción con modelo entrenado ###\n",
    "\n",
    "probability_model = tf.keras.Sequential([model, tf.keras.layers.Softmax()])\n",
    "predictions = probability_model.predict(test_images)\n",
    "\n",
    "# Obtener array de 10 números que representan la posibilidad de matcheo para cada caracter.\n",
    "\n",
    "print(\"Probabilidades para cada dígito:\")\n",
    "print(predictions[0])\n",
    "\n",
    "# Obtener el caracter con mayores posibilidades de matchear\n",
    "\n",
    "print(\"Índice dentro del array del caracter con mayores probabilidades de matchear:\", np.argmax(predictions[0]))\n",
    "\n",
    "# Examinar el valor asociado a caracter\n",
    "\n",
    "print(\"Dígito predecido:\",test_labels[7])"
   ]
  },
  {
   "cell_type": "code",
   "execution_count": 57,
   "metadata": {},
   "outputs": [
    {
     "name": "stdout",
     "output_type": "stream",
     "text": [
      "Imagen de prueba:\n"
     ]
    },
    {
     "data": {
      "image/png": "[encoded data removed]",
      "text/plain": [
       "<Figure size 432x288 with 1 Axes>"
      ]
     },
     "metadata": {
      "needs_background": "light"
     },
     "output_type": "display_data"
    },
    {
     "name": "stdout",
     "output_type": "stream",
     "text": [
      "Numero predecido: 7\n"
     ]
    },
    {
     "data": {
      "image/png": "[encoded data removed]",
      "text/plain": [
       "<Figure size 432x288 with 1 Axes>"
      ]
     },
     "metadata": {
      "needs_background": "light"
     },
     "output_type": "display_data"
    }
   ],
   "source": [
    "### Ejemplo 2 de predicción con modelo entrenado ###\n",
    "\n",
    "\n",
    "# Tomar una imagen del dataset\n",
    "\n",
    "img = test_images[0]\n",
    "\n",
    "print(\"Imagen de prueba:\")\n",
    "\n",
    "plt.subplot(221)\n",
    "plt.imshow(test_images[0], cmap=plt.get_cmap('gray'))\n",
    "plt.show()\n",
    "\n",
    "# Añadir la imagen a un conjunto en el que es el único elemento\n",
    "\n",
    "img = (np.expand_dims(img,0))\n",
    "\n",
    "# Predecir la label correcta para la imagen\n",
    "\n",
    "predictions_single = probability_model.predict(img)\n",
    "\n",
    "plot_value_array(1, predictions_single[0], test_labels)\n",
    "_ = plt.xticks(range(10), class_names, rotation=45)\n",
    "\n",
    "\n",
    "# Obtener predicción con mayores probabilidades\n",
    "\n",
    "prediction = np.argmax(predictions_single[0])\n",
    "\n",
    "print(\"Número predecido:\", prediction)"
   ]
  },
  {
   "cell_type": "code",
   "execution_count": 61,
   "metadata": {},
   "outputs": [
    {
     "name": "stdout",
     "output_type": "stream",
     "text": [
      "Imagen de prueba:\n"
     ]
    },
    {
     "data": {
      "image/png": "[encoded data removed]",
      "text/plain": [
       "<Figure size 432x288 with 1 Axes>"
      ]
     },
     "metadata": {
      "needs_background": "light"
     },
     "output_type": "display_data"
    },
    {
     "name": "stdout",
     "output_type": "stream",
     "text": [
      "Número predecido: 6\n"
     ]
    },
    {
     "data": {
      "image/png": "[encoded data removed]",
      "text/plain": [
       "<Figure size 432x288 with 1 Axes>"
      ]
     },
     "metadata": {
      "needs_background": "light"
     },
     "output_type": "display_data"
    }
   ],
   "source": [
    "### Ejemplo 3 de predicción con modelo entrenado ###\n",
    "\n",
    "\n",
    "# Tomar una imagen del dataset\n",
    "\n",
    "img = test_images[22]\n",
    "\n",
    "print(\"Imagen de prueba:\")\n",
    "\n",
    "plt.subplot(221)\n",
    "plt.imshow(test_images[22], cmap=plt.get_cmap('gray'))\n",
    "plt.show()\n",
    "\n",
    "# Añadir la imagen a un conjunto en el que es el único elemento\n",
    "\n",
    "img = (np.expand_dims(img,0))\n",
    "\n",
    "# Predecir la label correcta para la imagen\n",
    "\n",
    "predictions_single = probability_model.predict(img)\n",
    "\n",
    "plot_value_array(1, predictions_single[0], test_labels)\n",
    "_ = plt.xticks(range(10), class_names, rotation=45)\n",
    "\n",
    "\n",
    "# Obtener predicción con mayores probabilidades\n",
    "\n",
    "prediction = np.argmax(predictions_single[0])\n",
    "\n",
    "print(\"Número predecido:\", prediction)"
   ]
  },
  {
   "cell_type": "code",
   "execution_count": null,
   "metadata": {},
   "outputs": [],
   "source": []
  }
 ],
 "metadata": {
  "kernelspec": {
   "display_name": "Python 3",
   "language": "python",
   "name": "python3"
  },
  "language_info": {
   "codemirror_mode": {
    "name": "ipython",
    "version": 3
   },
   "file_extension": ".py",
   "mimetype": "text/x-python",
   "name": "python",
   "nbconvert_exporter": "python",
   "pygments_lexer": "ipython3",
   "version": "3.8.2"
  }
 },
 "nbformat": 4,
 "nbformat_minor": 4
}
